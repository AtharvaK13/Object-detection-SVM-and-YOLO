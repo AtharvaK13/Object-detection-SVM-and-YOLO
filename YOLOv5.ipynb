{
  "cells": [
    {
      "cell_type": "code",
      "execution_count": null,
      "metadata": {
        "colab": {
          "base_uri": "https://localhost:8080/",
          "height": 36
        },
        "id": "u1LNf_FRHN7Q",
        "outputId": "3c2f7fc1-e23d-45ca-ae5b-b9923cc4ea15"
      },
      "outputs": [
        {
          "output_type": "execute_result",
          "data": {
            "text/plain": [
              "'/device:GPU:0'"
            ],
            "application/vnd.google.colaboratory.intrinsic+json": {
              "type": "string"
            }
          },
          "metadata": {},
          "execution_count": 1
        }
      ],
      "source": [
        "import tensorflow as tf\n",
        "tf.test.gpu_device_name()\n"
      ]
    },
    {
      "cell_type": "code",
      "execution_count": null,
      "metadata": {
        "colab": {
          "base_uri": "https://localhost:8080/"
        },
        "id": "pHObYI8oSMBV",
        "outputId": "ed19e6af-f7c5-49df-bb07-5aeeb7c566a4"
      },
      "outputs": [
        {
          "output_type": "stream",
          "name": "stdout",
          "text": [
            "GPU 0: Tesla T4 (UUID: GPU-6a1bacc1-4f15-1656-81f7-ce1f8a37e25a)\n"
          ]
        }
      ],
      "source": [
        "!nvidia-smi -L"
      ]
    },
    {
      "cell_type": "code",
      "execution_count": null,
      "metadata": {
        "id": "Bbsx3gdeXDss"
      },
      "outputs": [],
      "source": [
        "!unzip /content/drive/MyDrive/archive.zip -d //content/drive/MyDrive/Dataset"
      ]
    },
    {
      "cell_type": "code",
      "execution_count": null,
      "metadata": {
        "colab": {
          "base_uri": "https://localhost:8080/"
        },
        "id": "uPZ5FZVTpi1R",
        "outputId": "22222cb4-48db-4f4a-b38f-c3ac2a38ed36"
      },
      "outputs": [
        {
          "output_type": "stream",
          "name": "stdout",
          "text": [
            "drive  sample_data\n"
          ]
        }
      ],
      "source": [
        "!ls"
      ]
    },
    {
      "cell_type": "code",
      "execution_count": null,
      "metadata": {
        "id": "_IQi73-LqhoF",
        "colab": {
          "base_uri": "https://localhost:8080/"
        },
        "outputId": "9784a642-4fc3-4762-b9f2-884ef35bac87"
      },
      "outputs": [
        {
          "output_type": "stream",
          "name": "stdout",
          "text": [
            "22241\n"
          ]
        }
      ],
      "source": [
        "import os\n",
        "FOLDER_PATH = 'Dataset/Images'\n",
        "ROOT_PATH = '/content/drive/MyDrive/'\n",
        "print(len(os.listdir(os.path.join(ROOT_PATH, FOLDER_PATH))))"
      ]
    },
    {
      "cell_type": "code",
      "execution_count": null,
      "metadata": {
        "id": "oOSITv1or00R"
      },
      "outputs": [],
      "source": [
        "import numpy as np, pandas as pd\n",
        "from glob import glob\n",
        "import shutil, os\n",
        "import matplotlib.pyplot as plt\n",
        "from sklearn.model_selection import GroupKFold\n",
        "from tqdm.notebook import tqdm\n",
        "import seaborn as sns\n",
        "import cv2\n",
        "from os import listdir\n",
        "from os.path import isfile, join\n",
        "import yaml"
      ]
    },
    {
      "cell_type": "code",
      "execution_count": null,
      "metadata": {
        "id": "MX59m4kU5K86"
      },
      "outputs": [],
      "source": [
        "import torch\n",
        "from IPython.display import Image, clear_output"
      ]
    },
    {
      "cell_type": "code",
      "execution_count": null,
      "metadata": {
        "colab": {
          "base_uri": "https://localhost:8080/"
        },
        "id": "WW9r_R9i5laV",
        "outputId": "0cc8915d-e85d-4432-fb07-9c21e02033f4"
      },
      "outputs": [
        {
          "output_type": "stream",
          "name": "stdout",
          "text": [
            "Cloning into 'yolov5'...\n",
            "remote: Enumerating objects: 14197, done.\u001b[K\n",
            "remote: Counting objects: 100% (137/137), done.\u001b[K\n",
            "remote: Compressing objects: 100% (72/72), done.\u001b[K\n",
            "remote: Total 14197 (delta 84), reused 100 (delta 65), pack-reused 14060\u001b[K\n",
            "Receiving objects: 100% (14197/14197), 13.62 MiB | 9.87 MiB/s, done.\n",
            "Resolving deltas: 100% (9740/9740), done.\n"
          ]
        }
      ],
      "source": [
        "! git clone https://github.com/ultralytics/yolov5"
      ]
    },
    {
      "cell_type": "code",
      "execution_count": null,
      "metadata": {
        "colab": {
          "base_uri": "https://localhost:8080/"
        },
        "id": "BQLoqliM51Lj",
        "outputId": "427c1539-8d55-4e49-8af6-0102b0dc3b28"
      },
      "outputs": [
        {
          "output_type": "stream",
          "name": "stdout",
          "text": [
            "/content/yolov5\n"
          ]
        }
      ],
      "source": [
        "cd yolov5"
      ]
    },
    {
      "cell_type": "code",
      "execution_count": null,
      "metadata": {
        "id": "2HNAgewK55gZ"
      },
      "outputs": [],
      "source": [
        "pip install -r requirements.txt "
      ]
    },
    {
      "cell_type": "code",
      "execution_count": null,
      "metadata": {
        "id": "ROuCa1Js586X"
      },
      "outputs": [],
      "source": [
        "df = pd.DataFrame()"
      ]
    },
    {
      "cell_type": "code",
      "execution_count": null,
      "metadata": {
        "id": "r6nKlWrm58xk"
      },
      "outputs": [],
      "source": [
        "#df =  pd.read_csv(content/drive/MyDrive/Dataset/labels_train.csv)"
      ]
    },
    {
      "cell_type": "code",
      "execution_count": null,
      "metadata": {
        "colab": {
          "base_uri": "https://localhost:8080/"
        },
        "id": "aTnvwNW5RKQj",
        "outputId": "165300f9-2632-44f2-bf16-7a1f8d1c5949"
      },
      "outputs": [
        {
          "output_type": "stream",
          "name": "stdout",
          "text": [
            "/content/drive/MyDrive/Dataset\n"
          ]
        }
      ],
      "source": [
        "cd /content/drive/MyDrive/Dataset/"
      ]
    },
    {
      "cell_type": "code",
      "execution_count": null,
      "metadata": {
        "colab": {
          "base_uri": "https://localhost:8080/"
        },
        "id": "PjGEaC9LRTjQ",
        "outputId": "8de5f9e1-c857-42a1-c8b3-e93887b8f590"
      },
      "outputs": [
        {
          "output_type": "stream",
          "name": "stdout",
          "text": [
            "images\tImages\tlabels\tlabels_train.csv  labels_trainval.csv  labels_val.csv\n"
          ]
        }
      ],
      "source": [
        "!ls"
      ]
    },
    {
      "cell_type": "code",
      "execution_count": null,
      "metadata": {
        "id": "uqW_SlhXRilT"
      },
      "outputs": [],
      "source": [
        "df =  pd.read_csv('labels_train.csv')"
      ]
    },
    {
      "cell_type": "code",
      "execution_count": null,
      "metadata": {
        "colab": {
          "base_uri": "https://localhost:8080/"
        },
        "id": "JC9P5P4cx5vi",
        "outputId": "d7246bda-10a3-4838-85c8-34e060ea2420"
      },
      "outputs": [
        {
          "output_type": "execute_result",
          "data": {
            "text/plain": [
              "1478020419697386200.jpg    31\n",
              "1478020420204575229.jpg    31\n",
              "1478020420705248954.jpg    31\n",
              "1478020419204218613.jpg    30\n",
              "1478020421703195424.jpg    29\n",
              "                           ..\n",
              "1478020798214780235.jpg     1\n",
              "1478020798715450031.jpg     1\n",
              "1478020799217516408.jpg     1\n",
              "1478020799716757297.jpg     1\n",
              "1478898478846479049.jpg     1\n",
              "Name: frame, Length: 18000, dtype: int64"
            ]
          },
          "metadata": {},
          "execution_count": 16
        }
      ],
      "source": [
        "df.frame.value_counts()"
      ]
    },
    {
      "cell_type": "code",
      "execution_count": null,
      "metadata": {
        "colab": {
          "base_uri": "https://localhost:8080/",
          "height": 300
        },
        "id": "Oa9NJiqsRpKa",
        "outputId": "5c66158e-09e9-4020-898a-67e2e256c24b"
      },
      "outputs": [
        {
          "output_type": "execute_result",
          "data": {
            "text/plain": [
              "                xmin           xmax           ymin           ymax  \\\n",
              "count  132406.000000  132406.000000  132406.000000  132406.000000   \n",
              "mean      202.112223     235.400118     133.525376     162.240148   \n",
              "std       114.647213     116.401491      20.508451      28.585448   \n",
              "min         0.000000       3.000000       0.000000       0.000000   \n",
              "25%       118.000000     150.000000     131.000000     152.000000   \n",
              "50%       200.000000     224.000000     139.000000     160.000000   \n",
              "75%       280.000000     312.000000     143.000000     171.000000   \n",
              "max       475.000000     479.000000     275.000000     299.000000   \n",
              "\n",
              "            class_id  \n",
              "count  132406.000000  \n",
              "mean        1.624692  \n",
              "std         1.269443  \n",
              "min         1.000000  \n",
              "25%         1.000000  \n",
              "50%         1.000000  \n",
              "75%         1.000000  \n",
              "max         5.000000  "
            ],
            "text/html": [
              "\n",
              "  <div id=\"df-0beb0b42-1140-4d92-9c72-e1e2034b8e5c\">\n",
              "    <div class=\"colab-df-container\">\n",
              "      <div>\n",
              "<style scoped>\n",
              "    .dataframe tbody tr th:only-of-type {\n",
              "        vertical-align: middle;\n",
              "    }\n",
              "\n",
              "    .dataframe tbody tr th {\n",
              "        vertical-align: top;\n",
              "    }\n",
              "\n",
              "    .dataframe thead th {\n",
              "        text-align: right;\n",
              "    }\n",
              "</style>\n",
              "<table border=\"1\" class=\"dataframe\">\n",
              "  <thead>\n",
              "    <tr style=\"text-align: right;\">\n",
              "      <th></th>\n",
              "      <th>xmin</th>\n",
              "      <th>xmax</th>\n",
              "      <th>ymin</th>\n",
              "      <th>ymax</th>\n",
              "      <th>class_id</th>\n",
              "    </tr>\n",
              "  </thead>\n",
              "  <tbody>\n",
              "    <tr>\n",
              "      <th>count</th>\n",
              "      <td>132406.000000</td>\n",
              "      <td>132406.000000</td>\n",
              "      <td>132406.000000</td>\n",
              "      <td>132406.000000</td>\n",
              "      <td>132406.000000</td>\n",
              "    </tr>\n",
              "    <tr>\n",
              "      <th>mean</th>\n",
              "      <td>202.112223</td>\n",
              "      <td>235.400118</td>\n",
              "      <td>133.525376</td>\n",
              "      <td>162.240148</td>\n",
              "      <td>1.624692</td>\n",
              "    </tr>\n",
              "    <tr>\n",
              "      <th>std</th>\n",
              "      <td>114.647213</td>\n",
              "      <td>116.401491</td>\n",
              "      <td>20.508451</td>\n",
              "      <td>28.585448</td>\n",
              "      <td>1.269443</td>\n",
              "    </tr>\n",
              "    <tr>\n",
              "      <th>min</th>\n",
              "      <td>0.000000</td>\n",
              "      <td>3.000000</td>\n",
              "      <td>0.000000</td>\n",
              "      <td>0.000000</td>\n",
              "      <td>1.000000</td>\n",
              "    </tr>\n",
              "    <tr>\n",
              "      <th>25%</th>\n",
              "      <td>118.000000</td>\n",
              "      <td>150.000000</td>\n",
              "      <td>131.000000</td>\n",
              "      <td>152.000000</td>\n",
              "      <td>1.000000</td>\n",
              "    </tr>\n",
              "    <tr>\n",
              "      <th>50%</th>\n",
              "      <td>200.000000</td>\n",
              "      <td>224.000000</td>\n",
              "      <td>139.000000</td>\n",
              "      <td>160.000000</td>\n",
              "      <td>1.000000</td>\n",
              "    </tr>\n",
              "    <tr>\n",
              "      <th>75%</th>\n",
              "      <td>280.000000</td>\n",
              "      <td>312.000000</td>\n",
              "      <td>143.000000</td>\n",
              "      <td>171.000000</td>\n",
              "      <td>1.000000</td>\n",
              "    </tr>\n",
              "    <tr>\n",
              "      <th>max</th>\n",
              "      <td>475.000000</td>\n",
              "      <td>479.000000</td>\n",
              "      <td>275.000000</td>\n",
              "      <td>299.000000</td>\n",
              "      <td>5.000000</td>\n",
              "    </tr>\n",
              "  </tbody>\n",
              "</table>\n",
              "</div>\n",
              "      <button class=\"colab-df-convert\" onclick=\"convertToInteractive('df-0beb0b42-1140-4d92-9c72-e1e2034b8e5c')\"\n",
              "              title=\"Convert this dataframe to an interactive table.\"\n",
              "              style=\"display:none;\">\n",
              "        \n",
              "  <svg xmlns=\"http://www.w3.org/2000/svg\" height=\"24px\"viewBox=\"0 0 24 24\"\n",
              "       width=\"24px\">\n",
              "    <path d=\"M0 0h24v24H0V0z\" fill=\"none\"/>\n",
              "    <path d=\"M18.56 5.44l.94 2.06.94-2.06 2.06-.94-2.06-.94-.94-2.06-.94 2.06-2.06.94zm-11 1L8.5 8.5l.94-2.06 2.06-.94-2.06-.94L8.5 2.5l-.94 2.06-2.06.94zm10 10l.94 2.06.94-2.06 2.06-.94-2.06-.94-.94-2.06-.94 2.06-2.06.94z\"/><path d=\"M17.41 7.96l-1.37-1.37c-.4-.4-.92-.59-1.43-.59-.52 0-1.04.2-1.43.59L10.3 9.45l-7.72 7.72c-.78.78-.78 2.05 0 2.83L4 21.41c.39.39.9.59 1.41.59.51 0 1.02-.2 1.41-.59l7.78-7.78 2.81-2.81c.8-.78.8-2.07 0-2.86zM5.41 20L4 18.59l7.72-7.72 1.47 1.35L5.41 20z\"/>\n",
              "  </svg>\n",
              "      </button>\n",
              "      \n",
              "  <style>\n",
              "    .colab-df-container {\n",
              "      display:flex;\n",
              "      flex-wrap:wrap;\n",
              "      gap: 12px;\n",
              "    }\n",
              "\n",
              "    .colab-df-convert {\n",
              "      background-color: #E8F0FE;\n",
              "      border: none;\n",
              "      border-radius: 50%;\n",
              "      cursor: pointer;\n",
              "      display: none;\n",
              "      fill: #1967D2;\n",
              "      height: 32px;\n",
              "      padding: 0 0 0 0;\n",
              "      width: 32px;\n",
              "    }\n",
              "\n",
              "    .colab-df-convert:hover {\n",
              "      background-color: #E2EBFA;\n",
              "      box-shadow: 0px 1px 2px rgba(60, 64, 67, 0.3), 0px 1px 3px 1px rgba(60, 64, 67, 0.15);\n",
              "      fill: #174EA6;\n",
              "    }\n",
              "\n",
              "    [theme=dark] .colab-df-convert {\n",
              "      background-color: #3B4455;\n",
              "      fill: #D2E3FC;\n",
              "    }\n",
              "\n",
              "    [theme=dark] .colab-df-convert:hover {\n",
              "      background-color: #434B5C;\n",
              "      box-shadow: 0px 1px 3px 1px rgba(0, 0, 0, 0.15);\n",
              "      filter: drop-shadow(0px 1px 2px rgba(0, 0, 0, 0.3));\n",
              "      fill: #FFFFFF;\n",
              "    }\n",
              "  </style>\n",
              "\n",
              "      <script>\n",
              "        const buttonEl =\n",
              "          document.querySelector('#df-0beb0b42-1140-4d92-9c72-e1e2034b8e5c button.colab-df-convert');\n",
              "        buttonEl.style.display =\n",
              "          google.colab.kernel.accessAllowed ? 'block' : 'none';\n",
              "\n",
              "        async function convertToInteractive(key) {\n",
              "          const element = document.querySelector('#df-0beb0b42-1140-4d92-9c72-e1e2034b8e5c');\n",
              "          const dataTable =\n",
              "            await google.colab.kernel.invokeFunction('convertToInteractive',\n",
              "                                                     [key], {});\n",
              "          if (!dataTable) return;\n",
              "\n",
              "          const docLinkHtml = 'Like what you see? Visit the ' +\n",
              "            '<a target=\"_blank\" href=https://colab.research.google.com/notebooks/data_table.ipynb>data table notebook</a>'\n",
              "            + ' to learn more about interactive tables.';\n",
              "          element.innerHTML = '';\n",
              "          dataTable['output_type'] = 'display_data';\n",
              "          await google.colab.output.renderOutput(dataTable, element);\n",
              "          const docLink = document.createElement('div');\n",
              "          docLink.innerHTML = docLinkHtml;\n",
              "          element.appendChild(docLink);\n",
              "        }\n",
              "      </script>\n",
              "    </div>\n",
              "  </div>\n",
              "  "
            ]
          },
          "metadata": {},
          "execution_count": 17
        }
      ],
      "source": [
        "df.describe()"
      ]
    },
    {
      "cell_type": "code",
      "execution_count": null,
      "metadata": {
        "colab": {
          "base_uri": "https://localhost:8080/"
        },
        "id": "jxBzttdsW_4Z",
        "outputId": "ce5a54fb-abcd-42e6-e3e0-101b94d0dc6c"
      },
      "outputs": [
        {
          "output_type": "stream",
          "name": "stdout",
          "text": [
            "images\tImages\tlabels\tlabels_train.csv  labels_trainval.csv  labels_val.csv\n"
          ]
        }
      ],
      "source": [
        "!ls"
      ]
    },
    {
      "cell_type": "code",
      "execution_count": null,
      "metadata": {
        "colab": {
          "base_uri": "https://localhost:8080/"
        },
        "id": "DLdZD9u7YGGu",
        "outputId": "50455ebd-6652-4ead-b466-48534d2849c5"
      },
      "outputs": [
        {
          "output_type": "stream",
          "name": "stdout",
          "text": [
            "/content/drive/MyDrive/Dataset/labels/labels_train\n"
          ]
        }
      ],
      "source": [
        "cd labels/labels_train/"
      ]
    },
    {
      "cell_type": "code",
      "execution_count": null,
      "metadata": {
        "colab": {
          "base_uri": "https://localhost:8080/"
        },
        "id": "pvuDIpqH4CXI",
        "outputId": "95c29898-ae94-48f8-c588-08267991ea21"
      },
      "outputs": [
        {
          "output_type": "stream",
          "name": "stdout",
          "text": [
            "/content/drive/MyDrive/Dataset/labels/labels_train\n"
          ]
        }
      ],
      "source": [
        "!pwd"
      ]
    },
    {
      "cell_type": "code",
      "execution_count": null,
      "metadata": {
        "id": "2gVzG_FiqZRo"
      },
      "outputs": [],
      "source": [
        "import re"
      ]
    },
    {
      "cell_type": "code",
      "execution_count": null,
      "metadata": {
        "id": "n4KpS3_PSZHS"
      },
      "outputs": [],
      "source": [
        "i=0\n",
        "while i<132406:\n",
        " f_name = df['frame'].iloc[i]\n",
        " f_name = re.sub('[.jpg]', '', f_name)\n",
        " xmin = df.iloc[i,1]\n",
        " xmax = df.iloc[i,2]\n",
        " ymin = df.iloc[i,3]\n",
        " ymax = df.iloc[i,4]\n",
        " height = (ymax-ymin)/300\n",
        " xmid = (xmax+xmin)/960\n",
        " width = (xmax-xmin)/480\n",
        " ymid = (ymax+ymin)/600\n",
        " class_id = df.iloc[i,5]-1\n",
        " lines = [str(class_id),str(xmid),str(ymid),str(width),str(height)]\n",
        " if isfile(f_name+'.txt'):\n",
        "   with open(f_name+'.txt','a') as f:\n",
        "    f.write('\\n')\n",
        "    f.writelines('\\t'.join(lines)) \n",
        " else:\n",
        "   with open(f_name+'.txt','w') as f:\n",
        "     f.writelines('\\t'.join(lines))\n",
        " i+=1"
      ]
    },
    {
      "cell_type": "code",
      "execution_count": null,
      "metadata": {
        "colab": {
          "base_uri": "https://localhost:8080/"
        },
        "id": "855S1rYuT7M-",
        "outputId": "a7850d51-5277-4eea-ba71-1231b26aee37"
      },
      "outputs": [
        {
          "output_type": "stream",
          "name": "stdout",
          "text": [
            "18000\n"
          ]
        }
      ],
      "source": [
        "FOLDER_PATH = 'Dataset/labels/labels_train'\n",
        "ROOT_PATH = '/content/drive/MyDrive/'\n",
        "print(len(os.listdir(os.path.join(ROOT_PATH, FOLDER_PATH))))"
      ]
    },
    {
      "cell_type": "code",
      "execution_count": null,
      "metadata": {
        "colab": {
          "base_uri": "https://localhost:8080/"
        },
        "id": "TrogigoSy-hQ",
        "outputId": "95c39068-b09a-45e8-c821-fa41f8e6f633"
      },
      "outputs": [
        {
          "output_type": "stream",
          "name": "stdout",
          "text": [
            "/content/drive/MyDrive/Dataset/labels_train/1479506164990616504.txt\n"
          ]
        }
      ],
      "source": [
        "import glob\n",
        "import os\n",
        "\n",
        "list_of_files = glob.glob('/content/drive/MyDrive/Dataset/labels_train/*') \n",
        "latest_file = max(list_of_files, key=os.path.getctime)\n",
        "print(latest_file)"
      ]
    },
    {
      "cell_type": "code",
      "execution_count": null,
      "metadata": {
        "id": "3qbg7Nyd0rW2"
      },
      "outputs": [],
      "source": [
        "import shutil"
      ]
    },
    {
      "cell_type": "code",
      "execution_count": null,
      "metadata": {
        "id": "U4QI0MJo1Aub"
      },
      "outputs": [],
      "source": [
        "def move_files(source,destination,label_source):\n",
        "  i=0\n",
        "  # origin = str(source)\n",
        "  # destination =  str(destination)\n",
        "\n",
        "  all_files =  os.listdir(source)\n",
        "  all_labels = os.listdir(label_source)\n",
        "\n",
        "  for file_name in all_labels:\n",
        "    #temp_name = re.sub('[.txt]','.jpg',file_name)\n",
        "    temp_name = file_name.split('.')[0] + '.jpg'\n",
        "    i+=1\n",
        "    #print(temp_name)\n",
        "    if temp_name in all_files:\n",
        "      shutil.copy(source+temp_name, destination+temp_name)\n",
        "    if i%1000==0:\n",
        "      print('copied'+temp_name)\n",
        "\n",
        "  # /content/drive/MyDrive/Dataset/labels/labels_train - source for labels\n",
        "  # /content/drive/MyDrive/Dataset/Images - source\n",
        "  # /content/drive/MyDrive/Dataset/images/images_train - destination"
      ]
    },
    {
      "cell_type": "code",
      "source": [
        "import re\n",
        "source_path =  '/content/drive/MyDrive/Dataset/Images/'\n",
        "dest_path = '/content/drive/MyDrive/Dataset/images/images_train/'\n",
        "labels_path = '/content/drive/MyDrive/Dataset/labels/labels_train'\n",
        "#print (dest_path)\n",
        "move_files(source_path,dest_path,labels_path)"
      ],
      "metadata": {
        "colab": {
          "base_uri": "https://localhost:8080/"
        },
        "id": "2Jl8a9JPyaA-",
        "outputId": "545a106f-3cf9-49fa-b63f-4469b8535708"
      },
      "execution_count": null,
      "outputs": [
        {
          "output_type": "stream",
          "name": "stdout",
          "text": [
            "copied1479506176491553178.jpg\n",
            "copied1479505398439268165.jpg\n",
            "copied1479504623888204868.jpg\n",
            "copied1479503854335723144.jpg\n",
            "copied1479503048781701598.jpg\n",
            "copied1479502276220629828.jpg\n",
            "copied1479501434172656229.jpg\n",
            "copied1479500151585352241.jpg\n",
            "copied1479499350530467483.jpg\n",
            "copied1478899045564925635.jpg\n",
            "copied1478898353733316888.jpg\n",
            "copied1478897766447693746.jpg\n",
            "copied1478897168307214737.jpg\n",
            "copied1478896594160679973.jpg\n",
            "copied1478895367601623377.jpg\n",
            "copied1478732503321948268.jpg\n",
            "copied1478731925822778182.jpg\n",
            "copied1478020803717331677.jpg\n"
          ]
        }
      ]
    },
    {
      "cell_type": "code",
      "source": [
        "!pwd"
      ],
      "metadata": {
        "colab": {
          "base_uri": "https://localhost:8080/"
        },
        "id": "P49NMRPqzS1x",
        "outputId": "6d61e11a-6bf0-422e-ac44-a90e7643a2d7"
      },
      "execution_count": null,
      "outputs": [
        {
          "output_type": "stream",
          "name": "stdout",
          "text": [
            "/content/drive/MyDrive/Dataset/labels/labels_train\n"
          ]
        }
      ]
    },
    {
      "cell_type": "code",
      "source": [
        "FOLDER_PATH = 'Dataset/images/images_train'\n",
        "ROOT_PATH = '/content/drive/MyDrive/'\n",
        "print(len(os.listdir(os.path.join(ROOT_PATH, FOLDER_PATH))))"
      ],
      "metadata": {
        "colab": {
          "base_uri": "https://localhost:8080/"
        },
        "id": "d6uLT80zzaJR",
        "outputId": "3f1a6177-9020-4bbc-82b9-874cea12e98d"
      },
      "execution_count": null,
      "outputs": [
        {
          "output_type": "stream",
          "name": "stdout",
          "text": [
            "18000\n"
          ]
        }
      ]
    },
    {
      "cell_type": "code",
      "source": [
        "origin = '/content/drive/MyDrive/Dataset/images/images_train/'\n",
        "target = '/content/datasets/images/'\n",
        "\n",
        "\n",
        "files = os.listdir(origin)\n",
        "\n",
        "\n",
        "for file_name in files:\n",
        "   shutil.copy(origin+file_name, target+file_name)\n",
        "print(\"Files are copied successfully\")"
      ],
      "metadata": {
        "colab": {
          "base_uri": "https://localhost:8080/"
        },
        "id": "iUwUAbCT5saw",
        "outputId": "21faf977-4170-427a-bab4-4c474bd7a0c7"
      },
      "execution_count": null,
      "outputs": [
        {
          "output_type": "stream",
          "name": "stdout",
          "text": [
            "Files are copied successfully\n"
          ]
        }
      ]
    },
    {
      "cell_type": "code",
      "source": [
        "FOLDER_PATH = '/content/datasets/images'\n",
        "ROOT_PATH = '/content/datasets'\n",
        "print(len(os.listdir(os.path.join(ROOT_PATH, FOLDER_PATH))))"
      ],
      "metadata": {
        "colab": {
          "base_uri": "https://localhost:8080/"
        },
        "id": "z2UZveVMISiO",
        "outputId": "67961c59-0801-4f83-d96a-5095ac416bf7"
      },
      "execution_count": null,
      "outputs": [
        {
          "output_type": "stream",
          "name": "stdout",
          "text": [
            "18000\n"
          ]
        }
      ]
    },
    {
      "cell_type": "code",
      "source": [
        "origin = '/content/drive/MyDrive/Dataset/labels/labels_train/'\n",
        "target = '/content/datasets/labels/'\n",
        "\n",
        "\n",
        "files = os.listdir(origin)\n",
        "\n",
        "\n",
        "for file_name in files:\n",
        "   shutil.copy(origin+file_name, target+file_name)\n",
        "print(\"Files are copied successfully\")"
      ],
      "metadata": {
        "colab": {
          "base_uri": "https://localhost:8080/"
        },
        "id": "O1cvHmiWId_j",
        "outputId": "c0bfac89-8dbb-481d-a32c-381481b17b6e"
      },
      "execution_count": null,
      "outputs": [
        {
          "output_type": "stream",
          "name": "stdout",
          "text": [
            "Files are copied successfully\n"
          ]
        }
      ]
    },
    {
      "cell_type": "code",
      "source": [
        "FOLDER_PATH = '/content/datasets/labels/'\n",
        "ROOT_PATH = '/content/datasets'\n",
        "#print(len(os.listdir(os.path.join(ROOT_PATH, FOLDER_PATH))))\n",
        "print(len(os.listdir(FOLDER_PATH)))"
      ],
      "metadata": {
        "colab": {
          "base_uri": "https://localhost:8080/"
        },
        "id": "SNRq7IoHKFmr",
        "outputId": "b0c3461c-4cc0-4e0d-d488-59073a6c9d3f"
      },
      "execution_count": null,
      "outputs": [
        {
          "output_type": "stream",
          "name": "stdout",
          "text": [
            "18000\n"
          ]
        }
      ]
    },
    {
      "cell_type": "code",
      "source": [
        "cd /content/yolov5"
      ],
      "metadata": {
        "colab": {
          "base_uri": "https://localhost:8080/"
        },
        "id": "nuoiUsZjLEb8",
        "outputId": "06b4407c-57da-401d-bb45-486a14bde7d6"
      },
      "execution_count": null,
      "outputs": [
        {
          "output_type": "stream",
          "name": "stdout",
          "text": [
            "/content/yolov5\n"
          ]
        }
      ]
    },
    {
      "cell_type": "code",
      "source": [
        "!python train.py --img 640 --cfg custom_yolo5s.yaml --hyp hyp.scratch-med.yaml --batch 32 --epochs 10 --data custom_data.yaml --weights yolov5s.pt --workers 24 --name yolo_road_det"
      ],
      "metadata": {
        "colab": {
          "base_uri": "https://localhost:8080/"
        },
        "id": "oqRs2OxoKfHf",
        "outputId": "5c1c6cef-c226-4c12-f383-5a03fc2650a7"
      },
      "execution_count": null,
      "outputs": [
        {
          "output_type": "stream",
          "name": "stdout",
          "text": [
            "\u001b[34m\u001b[1mtrain: \u001b[0mweights=yolov5s.pt, cfg=custom_yolo5s.yaml, data=custom_data.yaml, hyp=hyp.scratch-med.yaml, epochs=10, batch_size=32, imgsz=640, rect=False, resume=False, nosave=False, noval=False, noautoanchor=False, noplots=False, evolve=None, bucket=, cache=None, image_weights=False, device=, multi_scale=False, single_cls=False, optimizer=SGD, sync_bn=False, workers=24, project=runs/train, name=yolo_road_det, exist_ok=False, quad=False, cos_lr=False, label_smoothing=0.0, patience=100, freeze=[0], save_period=-1, seed=0, local_rank=-1, entity=None, upload_dataset=False, bbox_interval=-1, artifact_alias=latest\n",
            "\u001b[34m\u001b[1mgithub: \u001b[0mup to date with https://github.com/ultralytics/yolov5 ✅\n",
            "YOLOv5 🚀 v7.0-8-g350e8eb Python-3.7.15 torch-1.12.1+cu113 CUDA:0 (Tesla T4, 15110MiB)\n",
            "\n",
            "\u001b[34m\u001b[1mhyperparameters: \u001b[0mlr0=0.01, lrf=0.1, momentum=0.937, weight_decay=0.0005, warmup_epochs=3.0, warmup_momentum=0.8, warmup_bias_lr=0.1, box=0.05, cls=0.3, cls_pw=1.0, obj=0.7, obj_pw=1.0, iou_t=0.2, anchor_t=4.0, fl_gamma=0.0, hsv_h=0.015, hsv_s=0.7, hsv_v=0.4, degrees=0.0, translate=0.1, scale=0.9, shear=0.0, perspective=0.0, flipud=0.0, fliplr=0.5, mosaic=1.0, mixup=0.1, copy_paste=0.0\n",
            "\u001b[34m\u001b[1mClearML: \u001b[0mrun 'pip install clearml' to automatically track, visualize and remotely train YOLOv5 🚀 in ClearML\n",
            "\u001b[34m\u001b[1mComet: \u001b[0mrun 'pip install comet_ml' to automatically track and visualize YOLOv5 🚀 runs in Comet\n",
            "\u001b[34m\u001b[1mTensorBoard: \u001b[0mStart with 'tensorboard --logdir runs/train', view at http://localhost:6006/\n",
            "Downloading https://ultralytics.com/assets/Arial.ttf to /root/.config/Ultralytics/Arial.ttf...\n",
            "100% 755k/755k [00:00<00:00, 23.5MB/s]\n",
            "Downloading https://github.com/ultralytics/yolov5/releases/download/v7.0/yolov5s.pt to yolov5s.pt...\n",
            "100% 14.1M/14.1M [00:00<00:00, 183MB/s]\n",
            "\n",
            "\n",
            "                 from  n    params  module                                  arguments                     \n",
            "  0                -1  1      3520  models.common.Conv                      [3, 32, 6, 2, 2]              \n",
            "  1                -1  1     18560  models.common.Conv                      [32, 64, 3, 2]                \n",
            "  2                -1  1     18816  models.common.C3                        [64, 64, 1]                   \n",
            "  3                -1  1     73984  models.common.Conv                      [64, 128, 3, 2]               \n",
            "  4                -1  2    115712  models.common.C3                        [128, 128, 2]                 \n",
            "  5                -1  1    295424  models.common.Conv                      [128, 256, 3, 2]              \n",
            "  6                -1  3    625152  models.common.C3                        [256, 256, 3]                 \n",
            "  7                -1  1   1180672  models.common.Conv                      [256, 512, 3, 2]              \n",
            "  8                -1  1   1182720  models.common.C3                        [512, 512, 1]                 \n",
            "  9                -1  1    656896  models.common.SPPF                      [512, 512, 5]                 \n",
            " 10                -1  1    131584  models.common.Conv                      [512, 256, 1, 1]              \n",
            " 11                -1  1         0  torch.nn.modules.upsampling.Upsample    [None, 2, 'nearest']          \n",
            " 12           [-1, 6]  1         0  models.common.Concat                    [1]                           \n",
            " 13                -1  1    361984  models.common.C3                        [512, 256, 1, False]          \n",
            " 14                -1  1     33024  models.common.Conv                      [256, 128, 1, 1]              \n",
            " 15                -1  1         0  torch.nn.modules.upsampling.Upsample    [None, 2, 'nearest']          \n",
            " 16           [-1, 4]  1         0  models.common.Concat                    [1]                           \n",
            " 17                -1  1     90880  models.common.C3                        [256, 128, 1, False]          \n",
            " 18                -1  1    147712  models.common.Conv                      [128, 128, 3, 2]              \n",
            " 19          [-1, 14]  1         0  models.common.Concat                    [1]                           \n",
            " 20                -1  1    296448  models.common.C3                        [256, 256, 1, False]          \n",
            " 21                -1  1    590336  models.common.Conv                      [256, 256, 3, 2]              \n",
            " 22          [-1, 10]  1         0  models.common.Concat                    [1]                           \n",
            " 23                -1  1   1182720  models.common.C3                        [512, 512, 1, False]          \n",
            " 24      [17, 20, 23]  1     26970  models.yolo.Detect                      [5, [[10, 13, 16, 30, 33, 23], [30, 61, 62, 45, 59, 119], [116, 90, 156, 198, 373, 326]], [128, 256, 512]]\n",
            "custom_yolo5s summary: 214 layers, 7033114 parameters, 7033114 gradients, 16.0 GFLOPs\n",
            "\n",
            "Transferred 342/349 items from yolov5s.pt\n",
            "\u001b[34m\u001b[1mAMP: \u001b[0mchecks passed ✅\n",
            "\u001b[34m\u001b[1moptimizer:\u001b[0m SGD(lr=0.01) with parameter groups 57 weight(decay=0.0), 60 weight(decay=0.0005), 60 bias\n",
            "\u001b[34m\u001b[1malbumentations: \u001b[0mBlur(p=0.01, blur_limit=(3, 7)), MedianBlur(p=0.01, blur_limit=(3, 7)), ToGray(p=0.01), CLAHE(p=0.01, clip_limit=(1, 4.0), tile_grid_size=(8, 8))\n",
            "\u001b[34m\u001b[1mtrain: \u001b[0mScanning /content/datasets/labels... 18000 images, 0 backgrounds, 0 corrupt: 100% 18000/18000 [00:24<00:00, 749.96it/s]\n",
            "\u001b[34m\u001b[1mtrain: \u001b[0mWARNING ⚠️ /content/datasets/images/1478020644712955174.jpg: 1 duplicate labels removed\n",
            "\u001b[34m\u001b[1mtrain: \u001b[0mWARNING ⚠️ /content/datasets/images/1478020832210646675.jpg: 1 duplicate labels removed\n",
            "\u001b[34m\u001b[1mtrain: \u001b[0mWARNING ⚠️ /content/datasets/images/1478020944220115330.jpg: 1 duplicate labels removed\n",
            "\u001b[34m\u001b[1mtrain: \u001b[0mWARNING ⚠️ /content/datasets/images/1478021875081281646.jpg: 1 duplicate labels removed\n",
            "\u001b[34m\u001b[1mtrain: \u001b[0mWARNING ⚠️ /content/datasets/images/1478731898295473636.jpg: 1 duplicate labels removed\n",
            "\u001b[34m\u001b[1mtrain: \u001b[0mWARNING ⚠️ /content/datasets/images/1478731920661488084.jpg: 1 duplicate labels removed\n",
            "\u001b[34m\u001b[1mtrain: \u001b[0mWARNING ⚠️ /content/datasets/images/1478731922955810314.jpg: 1 duplicate labels removed\n",
            "\u001b[34m\u001b[1mtrain: \u001b[0mWARNING ⚠️ /content/datasets/images/1478732457442720557.jpg: 1 duplicate labels removed\n",
            "\u001b[34m\u001b[1mtrain: \u001b[0mWARNING ⚠️ /content/datasets/images/1478732493572404397.jpg: 1 duplicate labels removed\n",
            "\u001b[34m\u001b[1mtrain: \u001b[0mWARNING ⚠️ /content/datasets/images/1478732688555973177.jpg: 1 duplicate labels removed\n",
            "\u001b[34m\u001b[1mtrain: \u001b[0mWARNING ⚠️ /content/datasets/images/1478732887556135464.jpg: 1 duplicate labels removed\n",
            "\u001b[34m\u001b[1mtrain: \u001b[0mWARNING ⚠️ /content/datasets/images/1478897760163798179.jpg: 1 duplicate labels removed\n",
            "\u001b[34m\u001b[1mtrain: \u001b[0mWARNING ⚠️ /content/datasets/images/1478898000105422598.jpg: 1 duplicate labels removed\n",
            "\u001b[34m\u001b[1mtrain: \u001b[0mWARNING ⚠️ /content/datasets/images/1478898021242957332.jpg: 1 duplicate labels removed\n",
            "\u001b[34m\u001b[1mtrain: \u001b[0mWARNING ⚠️ /content/datasets/images/1478898145212453716.jpg: 1 duplicate labels removed\n",
            "\u001b[34m\u001b[1mtrain: \u001b[0mWARNING ⚠️ /content/datasets/images/1478898184631601686.jpg: 1 duplicate labels removed\n",
            "\u001b[34m\u001b[1mtrain: \u001b[0mWARNING ⚠️ /content/datasets/images/1478899002718297706.jpg: 1 duplicate labels removed\n",
            "\u001b[34m\u001b[1mtrain: \u001b[0mWARNING ⚠️ /content/datasets/images/1478899003861573476.jpg: 1 duplicate labels removed\n",
            "\u001b[34m\u001b[1mtrain: \u001b[0mWARNING ⚠️ /content/datasets/images/1479499853564870974.jpg: 1 duplicate labels removed\n",
            "\u001b[34m\u001b[1mtrain: \u001b[0mWARNING ⚠️ /content/datasets/images/1479502405738686444.jpg: 1 duplicate labels removed\n",
            "\u001b[34m\u001b[1mtrain: \u001b[0mNew cache created: /content/datasets/labels.cache\n",
            "\u001b[34m\u001b[1mval: \u001b[0mScanning /content/datasets/labels.cache... 18000 images, 0 backgrounds, 0 corrupt: 100% 18000/18000 [00:00<?, ?it/s]\n",
            "\u001b[34m\u001b[1mtrain: \u001b[0mWARNING ⚠️ /content/datasets/images/1478020644712955174.jpg: 1 duplicate labels removed\n",
            "\u001b[34m\u001b[1mtrain: \u001b[0mWARNING ⚠️ /content/datasets/images/1478020832210646675.jpg: 1 duplicate labels removed\n",
            "\u001b[34m\u001b[1mtrain: \u001b[0mWARNING ⚠️ /content/datasets/images/1478020944220115330.jpg: 1 duplicate labels removed\n",
            "\u001b[34m\u001b[1mtrain: \u001b[0mWARNING ⚠️ /content/datasets/images/1478021875081281646.jpg: 1 duplicate labels removed\n",
            "\u001b[34m\u001b[1mtrain: \u001b[0mWARNING ⚠️ /content/datasets/images/1478731898295473636.jpg: 1 duplicate labels removed\n",
            "\u001b[34m\u001b[1mtrain: \u001b[0mWARNING ⚠️ /content/datasets/images/1478731920661488084.jpg: 1 duplicate labels removed\n",
            "\u001b[34m\u001b[1mtrain: \u001b[0mWARNING ⚠️ /content/datasets/images/1478731922955810314.jpg: 1 duplicate labels removed\n",
            "\u001b[34m\u001b[1mtrain: \u001b[0mWARNING ⚠️ /content/datasets/images/1478732457442720557.jpg: 1 duplicate labels removed\n",
            "\u001b[34m\u001b[1mtrain: \u001b[0mWARNING ⚠️ /content/datasets/images/1478732493572404397.jpg: 1 duplicate labels removed\n",
            "\u001b[34m\u001b[1mtrain: \u001b[0mWARNING ⚠️ /content/datasets/images/1478732688555973177.jpg: 1 duplicate labels removed\n",
            "\u001b[34m\u001b[1mtrain: \u001b[0mWARNING ⚠️ /content/datasets/images/1478732887556135464.jpg: 1 duplicate labels removed\n",
            "\u001b[34m\u001b[1mtrain: \u001b[0mWARNING ⚠️ /content/datasets/images/1478897760163798179.jpg: 1 duplicate labels removed\n",
            "\u001b[34m\u001b[1mtrain: \u001b[0mWARNING ⚠️ /content/datasets/images/1478898000105422598.jpg: 1 duplicate labels removed\n",
            "\u001b[34m\u001b[1mtrain: \u001b[0mWARNING ⚠️ /content/datasets/images/1478898021242957332.jpg: 1 duplicate labels removed\n",
            "\u001b[34m\u001b[1mtrain: \u001b[0mWARNING ⚠️ /content/datasets/images/1478898145212453716.jpg: 1 duplicate labels removed\n",
            "\u001b[34m\u001b[1mtrain: \u001b[0mWARNING ⚠️ /content/datasets/images/1478898184631601686.jpg: 1 duplicate labels removed\n",
            "\u001b[34m\u001b[1mtrain: \u001b[0mWARNING ⚠️ /content/datasets/images/1478899002718297706.jpg: 1 duplicate labels removed\n",
            "\u001b[34m\u001b[1mtrain: \u001b[0mWARNING ⚠️ /content/datasets/images/1478899003861573476.jpg: 1 duplicate labels removed\n",
            "\u001b[34m\u001b[1mtrain: \u001b[0mWARNING ⚠️ /content/datasets/images/1479499853564870974.jpg: 1 duplicate labels removed\n",
            "\u001b[34m\u001b[1mtrain: \u001b[0mWARNING ⚠️ /content/datasets/images/1479502405738686444.jpg: 1 duplicate labels removed\n",
            "\n",
            "\u001b[34m\u001b[1mAutoAnchor: \u001b[0m4.89 anchors/target, 1.000 Best Possible Recall (BPR). Current anchors are a good fit to dataset ✅\n",
            "Plotting labels to runs/train/yolo_road_det2/labels.jpg... \n",
            "Image sizes 640 train, 640 val\n",
            "Using 2 dataloader workers\n",
            "Logging results to \u001b[1mruns/train/yolo_road_det2\u001b[0m\n",
            "Starting training for 10 epochs...\n",
            "\n",
            "      Epoch    GPU_mem   box_loss   obj_loss   cls_loss  Instances       Size\n",
            "        0/9      7.34G    0.07301    0.03647    0.01332        201        640: 100% 563/563 [09:08<00:00,  1.03it/s]\n",
            "                 Class     Images  Instances          P          R      mAP50   mAP50-95: 100% 282/282 [02:47<00:00,  1.68it/s]\n",
            "                   all      18000     132386      0.512      0.307      0.266      0.115\n",
            "\n",
            "      Epoch    GPU_mem   box_loss   obj_loss   cls_loss  Instances       Size\n",
            "        1/9       7.9G    0.05619    0.03152   0.007091        236        640: 100% 563/563 [08:45<00:00,  1.07it/s]\n",
            "                 Class     Images  Instances          P          R      mAP50   mAP50-95: 100% 282/282 [02:40<00:00,  1.75it/s]\n",
            "                   all      18000     132386      0.762      0.428      0.461      0.213\n",
            "\n",
            "      Epoch    GPU_mem   box_loss   obj_loss   cls_loss  Instances       Size\n",
            "        2/9       7.9G    0.05241    0.03085   0.005509        174        640: 100% 563/563 [08:35<00:00,  1.09it/s]\n",
            "                 Class     Images  Instances          P          R      mAP50   mAP50-95: 100% 282/282 [02:40<00:00,  1.75it/s]\n",
            "                   all      18000     132386      0.785      0.432      0.486      0.237\n",
            "\n",
            "      Epoch    GPU_mem   box_loss   obj_loss   cls_loss  Instances       Size\n",
            "        3/9       7.9G    0.04818     0.0304   0.004757        185        640: 100% 563/563 [08:38<00:00,  1.09it/s]\n",
            "                 Class     Images  Instances          P          R      mAP50   mAP50-95: 100% 282/282 [02:40<00:00,  1.76it/s]\n",
            "                   all      18000     132386      0.785       0.47      0.522      0.265\n",
            "\n",
            "      Epoch    GPU_mem   box_loss   obj_loss   cls_loss  Instances       Size\n",
            "        4/9       7.9G     0.0459    0.02976   0.004289        159        640: 100% 563/563 [08:41<00:00,  1.08it/s]\n",
            "                 Class     Images  Instances          P          R      mAP50   mAP50-95: 100% 282/282 [02:40<00:00,  1.76it/s]\n",
            "                   all      18000     132386      0.691      0.529       0.56      0.284\n",
            "\n",
            "      Epoch    GPU_mem   box_loss   obj_loss   cls_loss  Instances       Size\n",
            "        5/9       7.9G    0.04418    0.02883   0.003976        262        640: 100% 563/563 [08:41<00:00,  1.08it/s]\n",
            "                 Class     Images  Instances          P          R      mAP50   mAP50-95: 100% 282/282 [02:38<00:00,  1.77it/s]\n",
            "                   all      18000     132386      0.743      0.528      0.596      0.305\n",
            "\n",
            "      Epoch    GPU_mem   box_loss   obj_loss   cls_loss  Instances       Size\n",
            "        6/9       7.9G    0.04318    0.02839   0.003734        308        640: 100% 563/563 [08:39<00:00,  1.08it/s]\n",
            "                 Class     Images  Instances          P          R      mAP50   mAP50-95: 100% 282/282 [02:38<00:00,  1.78it/s]\n",
            "                   all      18000     132386      0.675      0.598      0.631      0.325\n",
            "\n",
            "      Epoch    GPU_mem   box_loss   obj_loss   cls_loss  Instances       Size\n",
            "        7/9       7.9G    0.04233    0.02822   0.003511        269        640: 100% 563/563 [08:39<00:00,  1.08it/s]\n",
            "                 Class     Images  Instances          P          R      mAP50   mAP50-95: 100% 282/282 [02:38<00:00,  1.78it/s]\n",
            "                   all      18000     132386       0.71      0.596      0.635       0.33\n",
            "\n",
            "      Epoch    GPU_mem   box_loss   obj_loss   cls_loss  Instances       Size\n",
            "        8/9       7.9G    0.04155    0.02792   0.003376        232        640: 100% 563/563 [08:39<00:00,  1.08it/s]\n",
            "                 Class     Images  Instances          P          R      mAP50   mAP50-95: 100% 282/282 [02:36<00:00,  1.80it/s]\n",
            "                   all      18000     132386      0.744      0.603      0.655      0.346\n",
            "\n",
            "      Epoch    GPU_mem   box_loss   obj_loss   cls_loss  Instances       Size\n",
            "        9/9       7.9G    0.04088    0.02749   0.003223        238        640: 100% 563/563 [08:38<00:00,  1.09it/s]\n",
            "                 Class     Images  Instances          P          R      mAP50   mAP50-95: 100% 282/282 [02:38<00:00,  1.78it/s]\n",
            "                   all      18000     132386      0.734      0.619      0.668      0.355\n",
            "\n",
            "10 epochs completed in 1.910 hours.\n",
            "Optimizer stripped from runs/train/yolo_road_det2/weights/last.pt, 14.4MB\n",
            "Optimizer stripped from runs/train/yolo_road_det2/weights/best.pt, 14.4MB\n",
            "\n",
            "Validating runs/train/yolo_road_det2/weights/best.pt...\n",
            "Fusing layers... \n",
            "custom_yolo5s summary: 157 layers, 7023610 parameters, 0 gradients, 15.8 GFLOPs\n",
            "                 Class     Images  Instances          P          R      mAP50   mAP50-95: 100% 282/282 [03:00<00:00,  1.56it/s]\n",
            "                   all      18000     132386      0.734      0.619      0.669      0.355\n",
            "                   car      18000     101304      0.804      0.807      0.858       0.53\n",
            "                 truck      18000       6313      0.793      0.703      0.766      0.492\n",
            "            pedestrian      18000      10636      0.661      0.487      0.541      0.229\n",
            "             bicyclist      18000       1442      0.599      0.415       0.45      0.197\n",
            "                 light      18000      12691      0.814      0.684      0.727      0.329\n",
            "Results saved to \u001b[1mruns/train/yolo_road_det2\u001b[0m\n"
          ]
        }
      ]
    },
    {
      "cell_type": "code",
      "source": [
        "cd yolov5"
      ],
      "metadata": {
        "colab": {
          "base_uri": "https://localhost:8080/"
        },
        "id": "V1NTu0c30Zjo",
        "outputId": "bacc0c9a-af84-4c10-98ca-1e9a69b43791"
      },
      "execution_count": null,
      "outputs": [
        {
          "output_type": "stream",
          "name": "stdout",
          "text": [
            "[Errno 2] No such file or directory: 'yolov5'\n",
            "/content/yolov5\n"
          ]
        }
      ]
    },
    {
      "cell_type": "code",
      "source": [
        "#!python detect.py --source /content/datasets/images/\n",
        "!python detect.py --source /content/drive/MyDrive/Dataset/images/images_train/ --weights /content/drive/MyDrive/Dataset/best.pt --conf 0.25 --name output"
      ],
      "metadata": {
        "id": "_RrzvQHjm__u"
      },
      "execution_count": null,
      "outputs": []
    },
    {
      "cell_type": "code",
      "source": [
        "cd /content/yolov5/runs/detect/output5"
      ],
      "metadata": {
        "colab": {
          "base_uri": "https://localhost:8080/"
        },
        "id": "vdWqlg8JnQcQ",
        "outputId": "bf5d4097-2601-425d-8547-9609c2590a1b"
      },
      "execution_count": null,
      "outputs": [
        {
          "output_type": "stream",
          "name": "stdout",
          "text": [
            "/content/yolov5/runs/detect/output5\n"
          ]
        }
      ]
    },
    {
      "cell_type": "code",
      "source": [
        "from PIL import Image, ImageDraw\n",
        "import random"
      ],
      "metadata": {
        "id": "VQp5wnwnsQZ7"
      },
      "execution_count": null,
      "outputs": []
    },
    {
      "cell_type": "code",
      "source": [
        "# detections_dir = \"/content/yolov5/runs/detect/output\"\n",
        "# detection_images = [os.path.join(detections_dir, x) for x in os.listdir(detections_dir)]\n",
        "\n",
        "# random_detection_image = Image.open(random.choice(detection_images))\n",
        "# plt.imshow(np.array(random_detection_image))\n",
        "\n",
        "detection_image = Image.open('/content/yolov5/runs/detect/output/1478019952686311006.jpg')\n",
        "plt.imshow(np.array(detection_image))\n",
        "plt.axis('off')"
      ],
      "metadata": {
        "colab": {
          "base_uri": "https://localhost:8080/",
          "height": 257
        },
        "id": "Yhhn5kcOqxPG",
        "outputId": "09a65d03-5364-4467-e9a5-121adf26aa0a"
      },
      "execution_count": null,
      "outputs": [
        {
          "output_type": "execute_result",
          "data": {
            "text/plain": [
              "(-0.5, 479.5, 299.5, -0.5)"
            ]
          },
          "metadata": {},
          "execution_count": 16
        },
        {
          "output_type": "display_data",
          "data": {
            "text/plain": [
              "<Figure size 432x288 with 1 Axes>"
            ],
            "image/png": "[encoded data removed]"
          },
          "metadata": {
            "needs_background": "light"
          }
        }
      ]
    },
    {
      "cell_type": "code",
      "source": [
        "%cp /content/yolov5/runs/train/yolo_road_det2/weights/best.pt /content/drive/MyDrive/Dataset/"
      ],
      "metadata": {
        "id": "Jd9vet3NyyfM"
      },
      "execution_count": null,
      "outputs": []
    }
  ],
  "metadata": {
    "colab": {
      "provenance": []
    },
    "gpuClass": "standard",
    "kernelspec": {
      "display_name": "Python 3",
      "name": "python3"
    },
    "language_info": {
      "name": "python"
    },
    "accelerator": "GPU"
  },
  "nbformat": 4,
  "nbformat_minor": 0
}
